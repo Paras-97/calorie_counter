{
 "cells": [
  {
   "cell_type": "code",
   "execution_count": null,
   "id": "21949ca8",
   "metadata": {},
   "outputs": [
    {
     "name": "stdout",
     "output_type": "stream",
     "text": [
      "Enter you name: Paras Pathania\n",
      "Enter your total calories: 2000\n",
      "Press: \n",
      " 1 for Breakfast \n",
      " 2 for Lunch \n",
      " 3 for Dinner \n",
      "3\n",
      "You have choosen Dinner. What would you like to have for Dinner?\n",
      "The options for Dinner are: \n",
      "1.Salmon and asparagus ---------- 600cals\n",
      "2.Chicken breast and veggies ---------- 500cals\n",
      "3.Salad ---------- 300cals\n"
     ]
    }
   ],
   "source": [
    "import csv\n",
    "\n",
    "global save_data\n",
    "global cals\n",
    "\n",
    "\n",
    "def meal_cal_counter(meal_type, meals):\n",
    "    global cals\n",
    "    global save_data\n",
    "    print(\"You have choosen {}. What would you like to have for {}?\".format(meal_type,meal_type))\n",
    "    print(\"The options for {} are: \".format(meal_type))\n",
    "    for i,meal in enumerate(meals):\n",
    "        i=i+1\n",
    "        print(str(i)+\".\"+meal+\" ---------- \"+str(meals[meal])+\"cals\")\n",
    "    \n",
    "    select_meal = input(\"\\n Please choose the number infront of the meal: \")\n",
    "    meal_selected = \"\"\n",
    "    j = 0\n",
    "    for i,meal in enumerate(meals):\n",
    "        i = i+1\n",
    "        if str(i) == select_meal:\n",
    "            meal_selected = meal\n",
    "            cals = cals - meals[meal]\n",
    "    print(\"Your selected meal is: \", meal_selected)\n",
    "    print(\"Your remaining calories for the day is: \", cals)\n",
    "    save_data.append([meal_type, meal_selected, meals[meal_selected]])\n",
    "    \n",
    "\n",
    "name = input(\"Enter you name: \")\n",
    "cals = int(input(\"Enter your total calories: \"))\n",
    "save_data = []\n",
    "\n",
    "breakfast = {\"Oats\":200, \"Bread and eggs\":300, \"Smashed avocado with two breads\":400}\n",
    "lunch = {\"Rice and curry\":600, \"Chicken breast and roasted veggies\":500, \"Chicken curry with rice\":600}\n",
    "dinner = {\"Salmon and asparagus\":600, \"Chicken breast and veggies\":500, \"Salad\":300}\n",
    "\n",
    "meal_inp = input(\"Press: \\n 1 for Breakfast \\n 2 for Lunch \\n 3 for Dinner \\n\")\n",
    "\n",
    "if(meal_inp == \"1\"):\n",
    "    meal_cal_counter(\"Breakfast\",breakfast)\n",
    "if(meal_inp == \"2\"):\n",
    "    meal_cal_counter(\"Lunch\",lunch)\n",
    "if(meal_inp == \"3\"):\n",
    "    meal_cal_counter(\"Dinner\",dinner)\n",
    "\n",
    "    \n",
    "columns = [\"Meal_Type\",\"Meal_Selected\",\"Calories\"]\n",
    "with open(name+\".csv\", 'w') as f:\n",
    "    write = csv.writer(f)\n",
    "    write.writerow(columns)\n",
    "    write.writerows(save_data)"
   ]
  },
  {
   "cell_type": "code",
   "execution_count": 90,
   "id": "857dd170",
   "metadata": {},
   "outputs": [
    {
     "name": "stdout",
     "output_type": "stream",
     "text": [
      "Enter you name: Paras\n",
      "Enter your total calories: 2000\n"
     ]
    }
   ],
   "source": []
  },
  {
   "cell_type": "code",
   "execution_count": 80,
   "id": "7ae4d877",
   "metadata": {},
   "outputs": [],
   "source": []
  },
  {
   "cell_type": "code",
   "execution_count": 97,
   "id": "25834e2b",
   "metadata": {},
   "outputs": [
    {
     "name": "stdout",
     "output_type": "stream",
     "text": [
      "Press: \n",
      " 1 for Breakfast \n",
      " 2 for Lunch \n",
      " 3 for Dinner \n",
      "3\n"
     ]
    }
   ],
   "source": []
  },
  {
   "cell_type": "code",
   "execution_count": 98,
   "id": "60947a5f",
   "metadata": {},
   "outputs": [],
   "source": []
  },
  {
   "cell_type": "code",
   "execution_count": 99,
   "id": "25c6315d",
   "metadata": {},
   "outputs": [
    {
     "name": "stdout",
     "output_type": "stream",
     "text": [
      "You have choosen Dinner. What would you like to have for Dinner?\n",
      "The options for Dinner are: \n",
      "1.Salmon and asparagus ---------- 600cals\n",
      "2.Chicken breast and veggies ---------- 500cals\n",
      "3.Salad ---------- 300cals\n",
      "\n",
      " Please choose the number infront of the meal: 1\n",
      "Your selected meal is:  Salmon and asparagus\n",
      "Your remaining calories for the day is:  300\n"
     ]
    }
   ],
   "source": []
  },
  {
   "cell_type": "code",
   "execution_count": 100,
   "id": "b30e5852",
   "metadata": {},
   "outputs": [
    {
     "data": {
      "text/plain": [
       "[['Lunch', 'Chicken breast and roasted veggies', 500],\n",
       " ['Lunch', 'Rice and curry', 600],\n",
       " ['Dinner', 'Salmon and asparagus', 600]]"
      ]
     },
     "execution_count": 100,
     "metadata": {},
     "output_type": "execute_result"
    }
   ],
   "source": [
    "save_data"
   ]
  },
  {
   "cell_type": "code",
   "execution_count": 101,
   "id": "fed79f08",
   "metadata": {},
   "outputs": [],
   "source": []
  },
  {
   "cell_type": "code",
   "execution_count": null,
   "id": "3aac4034",
   "metadata": {},
   "outputs": [],
   "source": []
  }
 ],
 "metadata": {
  "kernelspec": {
   "display_name": "Python 3 (ipykernel)",
   "language": "python",
   "name": "python3"
  },
  "language_info": {
   "codemirror_mode": {
    "name": "ipython",
    "version": 3
   },
   "file_extension": ".py",
   "mimetype": "text/x-python",
   "name": "python",
   "nbconvert_exporter": "python",
   "pygments_lexer": "ipython3",
   "version": "3.8.10"
  }
 },
 "nbformat": 4,
 "nbformat_minor": 5
}
